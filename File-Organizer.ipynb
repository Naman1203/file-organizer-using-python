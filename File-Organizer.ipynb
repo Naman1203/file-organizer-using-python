{
 "cells": [
  {
   "cell_type": "code",
   "execution_count": null,
   "id": "bf11879c-d3a3-4db2-8b2c-4b270942beb2",
   "metadata": {},
   "outputs": [],
   "source": [
    "import os\n",
    "\n",
    "def organize_files(directory):\n",
    "    if not os.path.exists(directory):\n",
    "        print(f\"The directory {directory} does not exist.\")\n",
    "        return\n",
    "\n",
    "    for file in os.listdir(directory):\n",
    "        file_path = os.path.join(directory, file)\n",
    "        if os.path.isfile(file_path):\n",
    "            ext = file.split('.')[-1]\n",
    "            ext_folder = os.path.join(directory, ext)\n",
    "\n",
    "            if not os.path.exists(ext_folder):\n",
    "                os.mkdir(ext_folder)\n",
    "\n",
    "            os.rename(file_path, os.path.join(ext_folder, file))\n",
    "\n",
    "    print(\"Files have been organized by extension.\")\n",
    "\n",
    "# Example usage\n",
    "organize_files(\"path/to/your/directory\")"
   ]
  }
 ],
 "metadata": {
  "kernelspec": {
   "display_name": "Python 3 (ipykernel)",
   "language": "python",
   "name": "python3"
  },
  "language_info": {
   "codemirror_mode": {
    "name": "ipython",
    "version": 3
   },
   "file_extension": ".py",
   "mimetype": "text/x-python",
   "name": "python",
   "nbconvert_exporter": "python",
   "pygments_lexer": "ipython3",
   "version": "3.12.5"
  }
 },
 "nbformat": 4,
 "nbformat_minor": 5
}
